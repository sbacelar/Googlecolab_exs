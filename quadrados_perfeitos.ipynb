{
  "nbformat": 4,
  "nbformat_minor": 0,
  "metadata": {
    "colab": {
      "provenance": [],
      "authorship_tag": "ABX9TyORZvkDfxA9HCk5J4AYPLwx",
      "include_colab_link": true
    },
    "kernelspec": {
      "name": "python3",
      "display_name": "Python 3"
    },
    "language_info": {
      "name": "python"
    }
  },
  "cells": [
    {
      "cell_type": "markdown",
      "metadata": {
        "id": "view-in-github",
        "colab_type": "text"
      },
      "source": [
        "<a href=\"https://colab.research.google.com/github/sbacelar/Googlecolab_exs/blob/main/quadrados_perfeitos.ipynb\" target=\"_parent\"><img src=\"https://colab.research.google.com/assets/colab-badge.svg\" alt=\"Open In Colab\"/></a>"
      ]
    },
    {
      "cell_type": "code",
      "execution_count": null,
      "metadata": {
        "id": "zRjxmNqpm-iI"
      },
      "outputs": [],
      "source": [
        "start = 1000\n",
        "end = 3000\n",
        "quadrados_perfeitos = [n for n in range(start, end + 1) if int(n**0.5)**2 == n]"
      ]
    },
    {
      "cell_type": "code",
      "source": [
        "print(quadrados_perfeitos)"
      ],
      "metadata": {
        "colab": {
          "base_uri": "https://localhost:8080/"
        },
        "id": "oXRUK0AOnkvS",
        "outputId": "2e413040-c709-41b5-b405-9bfc17ac16d8"
      },
      "execution_count": null,
      "outputs": [
        {
          "output_type": "stream",
          "name": "stdout",
          "text": [
            "[1024, 1089, 1156, 1225, 1296, 1369, 1444, 1521, 1600, 1681, 1764, 1849, 1936, 2025, 2116, 2209, 2304, 2401, 2500, 2601, 2704, 2809, 2916]\n"
          ]
        }
      ]
    }
  ]
}